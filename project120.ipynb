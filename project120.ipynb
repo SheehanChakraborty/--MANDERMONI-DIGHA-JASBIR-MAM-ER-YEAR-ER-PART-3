{
  "nbformat": 4,
  "nbformat_minor": 0,
  "metadata": {
    "colab": {
      "name": "project120.ipynb",
      "provenance": [],
      "authorship_tag": "ABX9TyOdJm9AQ4YklPW9rqW8P8Bu"
    },
    "kernelspec": {
      "name": "python3",
      "display_name": "Python 3"
    },
    "language_info": {
      "name": "python"
    }
  },
  "cells": [
    {
      "cell_type": "code",
      "execution_count": 2,
      "metadata": {
        "id": "6Mo8KKjA_J9-"
      },
      "outputs": [],
      "source": [
        "from sklearn import datasets\n",
        "\n",
        "wine = datasets.load_wine()"
      ]
    },
    {
      "cell_type": "code",
      "source": [
        "from sklearn.naive_bayes import GaussianNB\n",
        "gnb=GaussianNB()\n",
        "gnb.fit(X_train, y_train)\n",
        "y_pred = gnb.predict(X_test)"
      ],
      "metadata": {
        "id": "DLmv8NtUAa3H"
      },
      "execution_count": null,
      "outputs": []
    },
    {
      "cell_type": "code",
      "source": [
        "from sklearn import metrics\n",
        "print(\"Accuracy:\",metrics.accuracy_score(y_test, y_pred))\n"
      ],
      "metadata": {
        "id": "5xbPAKRJAgfX"
      },
      "execution_count": null,
      "outputs": []
    }
  ]
}